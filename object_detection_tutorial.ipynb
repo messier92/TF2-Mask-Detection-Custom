{
 "cells": [
  {
   "cell_type": "markdown",
   "metadata": {
    "colab_type": "text",
    "id": "V8-yl-s-WKMG"
   },
   "source": [
    "# Object Detection API Demo\n",
    "\n",
    "<table align=\"left\"><td>\n",
    "  <a target=\"_blank\"  href=\"https://colab.sandbox.google.com/github/tensorflow/models/blob/master/research/object_detection/colab_tutorials/object_detection_tutorial.ipynb\">\n",
    "    <img src=\"https://www.tensorflow.org/images/colab_logo_32px.png\" />Run in Google Colab\n",
    "  </a>\n",
    "</td><td>\n",
    "  <a target=\"_blank\"  href=\"https://github.com/tensorflow/models/blob/master/research/object_detection/colab_tutorials/object_detection_tutorial.ipynb\">\n",
    "    <img width=32px src=\"https://www.tensorflow.org/images/GitHub-Mark-32px.png\" />View source on GitHub</a>\n",
    "</td></table>"
   ]
  },
  {
   "cell_type": "markdown",
   "metadata": {
    "colab_type": "text",
    "id": "3cIrseUv6WKz"
   },
   "source": [
    "Welcome to the [Object Detection API](https://github.com/tensorflow/models/tree/master/research/object_detection). This notebook will walk you step by step through the process of using a pre-trained model to detect objects in an image."
   ]
  },
  {
   "cell_type": "markdown",
   "metadata": {
    "colab_type": "text",
    "id": "VrJaG0cYN9yh"
   },
   "source": [
    "> **Important**: This tutorial is to help you through the first step towards using [Object Detection API](https://github.com/tensorflow/models/tree/master/research/object_detection) to build models. If you just just need an off the shelf model that does the job, see the [TFHub object detection example](https://colab.sandbox.google.com/github/tensorflow/hub/blob/master/examples/colab/object_detection.ipynb)."
   ]
  },
  {
   "cell_type": "markdown",
   "metadata": {
    "colab_type": "text",
    "id": "kFSqkTCdWKMI"
   },
   "source": [
    "# Setup"
   ]
  },
  {
   "cell_type": "markdown",
   "metadata": {
    "colab_type": "text",
    "id": "awjrpqy-6MaQ"
   },
   "source": [
    "Important: If you're running on a local machine, be sure to follow the [installation instructions](https://github.com/tensorflow/models/blob/master/research/object_detection/g3doc/installation.md). This notebook includes only what's necessary to run in Colab."
   ]
  },
  {
   "cell_type": "markdown",
   "metadata": {
    "colab_type": "text",
    "id": "p3UGXxUii5Ym"
   },
   "source": [
    "### Install"
   ]
  },
  {
   "cell_type": "code",
   "execution_count": 1,
   "metadata": {
    "colab": {},
    "colab_type": "code",
    "id": "hGL97-GXjSUw"
   },
   "outputs": [
    {
     "name": "stdout",
     "output_type": "stream",
     "text": [
      "Requirement already up-to-date: tensorflow==2.* in c:\\users\\eugene goh\\appdata\\local\\programs\\python\\python37\\lib\\site-packages (2.3.1)"
     ]
    },
    {
     "name": "stderr",
     "output_type": "stream",
     "text": [
      "WARNING: You are using pip version 20.2.2; however, version 20.2.3 is available.\n",
      "You should consider upgrading via the 'c:\\users\\eugene goh\\appdata\\local\\programs\\python\\python37\\python.exe -m pip install --upgrade pip' command.\n"
     ]
    },
    {
     "name": "stdout",
     "output_type": "stream",
     "text": [
      "\n",
      "Requirement already satisfied, skipping upgrade: opt-einsum>=2.3.2 in c:\\users\\eugene goh\\appdata\\local\\programs\\python\\python37\\lib\\site-packages (from tensorflow==2.*) (3.2.1)\n",
      "Requirement already satisfied, skipping upgrade: numpy<1.19.0,>=1.16.0 in c:\\users\\eugene goh\\appdata\\local\\programs\\python\\python37\\lib\\site-packages (from tensorflow==2.*) (1.18.2)\n",
      "Requirement already satisfied, skipping upgrade: protobuf>=3.9.2 in c:\\users\\eugene goh\\appdata\\local\\programs\\python\\python37\\lib\\site-packages (from tensorflow==2.*) (3.12.2)\n",
      "Requirement already satisfied, skipping upgrade: termcolor>=1.1.0 in c:\\users\\eugene goh\\appdata\\local\\programs\\python\\python37\\lib\\site-packages (from tensorflow==2.*) (1.1.0)\n",
      "Requirement already satisfied, skipping upgrade: wheel>=0.26 in c:\\users\\eugene goh\\appdata\\local\\programs\\python\\python37\\lib\\site-packages (from tensorflow==2.*) (0.34.2)\n",
      "Requirement already satisfied, skipping upgrade: h5py<2.11.0,>=2.10.0 in c:\\users\\eugene goh\\appdata\\local\\programs\\python\\python37\\lib\\site-packages (from tensorflow==2.*) (2.10.0)\n",
      "Requirement already satisfied, skipping upgrade: keras-preprocessing<1.2,>=1.1.1 in c:\\users\\eugene goh\\appdata\\local\\programs\\python\\python37\\lib\\site-packages (from tensorflow==2.*) (1.1.2)\n",
      "Requirement already satisfied, skipping upgrade: tensorflow-estimator<2.4.0,>=2.3.0 in c:\\users\\eugene goh\\appdata\\local\\programs\\python\\python37\\lib\\site-packages (from tensorflow==2.*) (2.3.0)\n",
      "Requirement already satisfied, skipping upgrade: tensorboard<3,>=2.3.0 in c:\\users\\eugene goh\\appdata\\local\\programs\\python\\python37\\lib\\site-packages (from tensorflow==2.*) (2.3.0)\n",
      "Requirement already satisfied, skipping upgrade: wrapt>=1.11.1 in c:\\users\\eugene goh\\appdata\\local\\programs\\python\\python37\\lib\\site-packages (from tensorflow==2.*) (1.12.1)\n",
      "Requirement already satisfied, skipping upgrade: six>=1.12.0 in c:\\users\\eugene goh\\appdata\\local\\programs\\python\\python37\\lib\\site-packages (from tensorflow==2.*) (1.15.0)\n",
      "Requirement already satisfied, skipping upgrade: grpcio>=1.8.6 in c:\\users\\eugene goh\\appdata\\local\\programs\\python\\python37\\lib\\site-packages (from tensorflow==2.*) (1.30.0)\n",
      "Requirement already satisfied, skipping upgrade: astunparse==1.6.3 in c:\\users\\eugene goh\\appdata\\local\\programs\\python\\python37\\lib\\site-packages (from tensorflow==2.*) (1.6.3)\n",
      "Requirement already satisfied, skipping upgrade: absl-py>=0.7.0 in c:\\users\\eugene goh\\appdata\\local\\programs\\python\\python37\\lib\\site-packages (from tensorflow==2.*) (0.9.0)\n",
      "Requirement already satisfied, skipping upgrade: google-pasta>=0.1.8 in c:\\users\\eugene goh\\appdata\\local\\programs\\python\\python37\\lib\\site-packages (from tensorflow==2.*) (0.2.0)\n",
      "Requirement already satisfied, skipping upgrade: gast==0.3.3 in c:\\users\\eugene goh\\appdata\\local\\programs\\python\\python37\\lib\\site-packages (from tensorflow==2.*) (0.3.3)\n",
      "Requirement already satisfied, skipping upgrade: setuptools in c:\\users\\eugene goh\\appdata\\local\\programs\\python\\python37\\lib\\site-packages (from protobuf>=3.9.2->tensorflow==2.*) (41.2.0)\n",
      "Requirement already satisfied, skipping upgrade: google-auth-oauthlib<0.5,>=0.4.1 in c:\\users\\eugene goh\\appdata\\local\\programs\\python\\python37\\lib\\site-packages (from tensorboard<3,>=2.3.0->tensorflow==2.*) (0.4.1)\n",
      "Requirement already satisfied, skipping upgrade: markdown>=2.6.8 in c:\\users\\eugene goh\\appdata\\local\\programs\\python\\python37\\lib\\site-packages (from tensorboard<3,>=2.3.0->tensorflow==2.*) (3.2.2)\n",
      "Requirement already satisfied, skipping upgrade: tensorboard-plugin-wit>=1.6.0 in c:\\users\\eugene goh\\appdata\\local\\programs\\python\\python37\\lib\\site-packages (from tensorboard<3,>=2.3.0->tensorflow==2.*) (1.7.0)\n",
      "Requirement already satisfied, skipping upgrade: werkzeug>=0.11.15 in c:\\users\\eugene goh\\appdata\\local\\programs\\python\\python37\\lib\\site-packages (from tensorboard<3,>=2.3.0->tensorflow==2.*) (0.14.1)\n",
      "Requirement already satisfied, skipping upgrade: requests<3,>=2.21.0 in c:\\users\\eugene goh\\appdata\\local\\programs\\python\\python37\\lib\\site-packages (from tensorboard<3,>=2.3.0->tensorflow==2.*) (2.24.0)\n",
      "Requirement already satisfied, skipping upgrade: google-auth<2,>=1.6.3 in c:\\users\\eugene goh\\appdata\\local\\programs\\python\\python37\\lib\\site-packages (from tensorboard<3,>=2.3.0->tensorflow==2.*) (1.19.2)\n",
      "Requirement already satisfied, skipping upgrade: requests-oauthlib>=0.7.0 in c:\\users\\eugene goh\\appdata\\local\\programs\\python\\python37\\lib\\site-packages (from google-auth-oauthlib<0.5,>=0.4.1->tensorboard<3,>=2.3.0->tensorflow==2.*) (1.0.0)\n",
      "Requirement already satisfied, skipping upgrade: importlib-metadata; python_version < \"3.8\" in c:\\users\\eugene goh\\appdata\\local\\programs\\python\\python37\\lib\\site-packages (from markdown>=2.6.8->tensorboard<3,>=2.3.0->tensorflow==2.*) (1.7.0)\n",
      "Requirement already satisfied, skipping upgrade: urllib3!=1.25.0,!=1.25.1,<1.26,>=1.21.1 in c:\\users\\eugene goh\\appdata\\local\\programs\\python\\python37\\lib\\site-packages (from requests<3,>=2.21.0->tensorboard<3,>=2.3.0->tensorflow==2.*) (1.24.1)\n",
      "Requirement already satisfied, skipping upgrade: chardet<4,>=3.0.2 in c:\\users\\eugene goh\\appdata\\local\\programs\\python\\python37\\lib\\site-packages (from requests<3,>=2.21.0->tensorboard<3,>=2.3.0->tensorflow==2.*) (3.0.4)\n",
      "Requirement already satisfied, skipping upgrade: idna<3,>=2.5 in c:\\users\\eugene goh\\appdata\\local\\programs\\python\\python37\\lib\\site-packages (from requests<3,>=2.21.0->tensorboard<3,>=2.3.0->tensorflow==2.*) (2.7)\n",
      "Requirement already satisfied, skipping upgrade: certifi>=2017.4.17 in c:\\users\\eugene goh\\appdata\\local\\programs\\python\\python37\\lib\\site-packages (from requests<3,>=2.21.0->tensorboard<3,>=2.3.0->tensorflow==2.*) (2018.10.15)\n",
      "Requirement already satisfied, skipping upgrade: pyasn1-modules>=0.2.1 in c:\\users\\eugene goh\\appdata\\local\\programs\\python\\python37\\lib\\site-packages (from google-auth<2,>=1.6.3->tensorboard<3,>=2.3.0->tensorflow==2.*) (0.2.8)\n",
      "Requirement already satisfied, skipping upgrade: rsa<5,>=3.1.4; python_version >= \"3\" in c:\\users\\eugene goh\\appdata\\local\\programs\\python\\python37\\lib\\site-packages (from google-auth<2,>=1.6.3->tensorboard<3,>=2.3.0->tensorflow==2.*) (4.6)\n",
      "Requirement already satisfied, skipping upgrade: cachetools<5.0,>=2.0.0 in c:\\users\\eugene goh\\appdata\\local\\programs\\python\\python37\\lib\\site-packages (from google-auth<2,>=1.6.3->tensorboard<3,>=2.3.0->tensorflow==2.*) (4.1.1)\n",
      "Requirement already satisfied, skipping upgrade: oauthlib>=0.6.2 in c:\\users\\eugene goh\\appdata\\local\\programs\\python\\python37\\lib\\site-packages (from requests-oauthlib>=0.7.0->google-auth-oauthlib<0.5,>=0.4.1->tensorboard<3,>=2.3.0->tensorflow==2.*) (2.1.0)\n",
      "Requirement already satisfied, skipping upgrade: zipp>=0.5 in c:\\users\\eugene goh\\appdata\\local\\programs\\python\\python37\\lib\\site-packages (from importlib-metadata; python_version < \"3.8\"->markdown>=2.6.8->tensorboard<3,>=2.3.0->tensorflow==2.*) (3.1.0)\n",
      "Requirement already satisfied, skipping upgrade: pyasn1<0.5.0,>=0.4.6 in c:\\users\\eugene goh\\appdata\\local\\programs\\python\\python37\\lib\\site-packages (from pyasn1-modules>=0.2.1->google-auth<2,>=1.6.3->tensorboard<3,>=2.3.0->tensorflow==2.*) (0.4.8)\n",
      "Requirement already satisfied: tf_slim in c:\\users\\eugene goh\\appdata\\local\\programs\\python\\python37\\lib\\site-packages (1.1.0)\n",
      "Requirement already satisfied: absl-py>=0.2.2 in c:\\users\\eugene goh\\appdata\\local\\programs\\python\\python37\\lib\\site-packages (from tf_slim) (0.9.0)\n",
      "Requirement already satisfied: six in c:\\users\\eugene goh\\appdata\\local\\programs\\python\\python37\\lib\\site-packages (from absl-py>=0.2.2->tf_slim) (1.15.0)\n"
     ]
    },
    {
     "name": "stderr",
     "output_type": "stream",
     "text": [
      "WARNING: You are using pip version 20.2.2; however, version 20.2.3 is available.\n",
      "You should consider upgrading via the 'c:\\users\\eugene goh\\appdata\\local\\programs\\python\\python37\\python.exe -m pip install --upgrade pip' command.\n"
     ]
    }
   ],
   "source": [
    "!pip install -U --pre tensorflow==\"2.*\"\n",
    "!pip install tf_slim"
   ]
  },
  {
   "cell_type": "markdown",
   "metadata": {
    "colab_type": "text",
    "id": "n_ap_s9ajTHH"
   },
   "source": [
    "Make sure you have `pycocotools` installed"
   ]
  },
  {
   "cell_type": "code",
   "execution_count": 2,
   "metadata": {
    "colab": {},
    "colab_type": "code",
    "id": "Bg8ZyA47i3pY"
   },
   "outputs": [
    {
     "name": "stdout",
     "output_type": "stream",
     "text": [
      "Requirement already satisfied: pycocotools in c:\\users\\eugene goh\\appdata\\local\\programs\\python\\python37\\lib\\site-packages (2.0.2)\n",
      "Requirement already satisfied: setuptools>=18.0 in c:\\users\\eugene goh\\appdata\\local\\programs\\python\\python37\\lib\\site-packages (from pycocotools) (41.2.0)\n",
      "Requirement already satisfied: matplotlib>=2.1.0 in c:\\users\\eugene goh\\appdata\\local\\programs\\python\\python37\\lib\\site-packages (from pycocotools) (3.3.0)\n",
      "Requirement already satisfied: cython>=0.27.3 in c:\\users\\eugene goh\\appdata\\local\\programs\\python\\python37\\lib\\site-packages (from pycocotools) (0.29.21)\n",
      "Requirement already satisfied: numpy>=1.15 in c:\\users\\eugene goh\\appdata\\local\\programs\\python\\python37\\lib\\site-packages (from matplotlib>=2.1.0->pycocotools) (1.18.2)\n",
      "Requirement already satisfied: pillow>=6.2.0 in c:\\users\\eugene goh\\appdata\\local\\programs\\python\\python37\\lib\\site-packages (from matplotlib>=2.1.0->pycocotools) (7.2.0)\n",
      "Requirement already satisfied: pyparsing!=2.0.4,!=2.1.2,!=2.1.6,>=2.0.3 in c:\\users\\eugene goh\\appdata\\local\\programs\\python\\python37\\lib\\site-packages (from matplotlib>=2.1.0->pycocotools) (2.2.0)\n",
      "Requirement already satisfied: cycler>=0.10 in c:\\users\\eugene goh\\appdata\\local\\programs\\python\\python37\\lib\\site-packages (from matplotlib>=2.1.0->pycocotools) (0.10.0)\n",
      "Requirement already satisfied: kiwisolver>=1.0.1 in c:\\users\\eugene goh\\appdata\\local\\programs\\python\\python37\\lib\\site-packages (from matplotlib>=2.1.0->pycocotools) (1.2.0)\n",
      "Requirement already satisfied: python-dateutil>=2.1 in c:\\users\\eugene goh\\appdata\\local\\programs\\python\\python37\\lib\\site-packages (from matplotlib>=2.1.0->pycocotools) (2.8.1)\n",
      "Requirement already satisfied: six in c:\\users\\eugene goh\\appdata\\local\\programs\\python\\python37\\lib\\site-packages (from cycler>=0.10->matplotlib>=2.1.0->pycocotools) (1.15.0)\n"
     ]
    },
    {
     "name": "stderr",
     "output_type": "stream",
     "text": [
      "WARNING: You are using pip version 20.2.2; however, version 20.2.3 is available.\n",
      "You should consider upgrading via the 'c:\\users\\eugene goh\\appdata\\local\\programs\\python\\python37\\python.exe -m pip install --upgrade pip' command.\n"
     ]
    }
   ],
   "source": [
    "!pip install pycocotools"
   ]
  },
  {
   "cell_type": "markdown",
   "metadata": {
    "colab_type": "text",
    "id": "-vsOL3QR6kqs"
   },
   "source": [
    "Get `tensorflow/models` or `cd` to parent directory of the repository."
   ]
  },
  {
   "cell_type": "code",
   "execution_count": 3,
   "metadata": {
    "colab": {},
    "colab_type": "code",
    "id": "ykA0c-om51s1"
   },
   "outputs": [],
   "source": [
    "import os\n",
    "import pathlib\n",
    "\n",
    "\n",
    "if \"models\" in pathlib.Path.cwd().parts:\n",
    "  while \"models\" in pathlib.Path.cwd().parts:\n",
    "    os.chdir('..')\n",
    "elif not pathlib.Path('models').exists():\n",
    "  !git clone --depth 1 https://github.com/tensorflow/models"
   ]
  },
  {
   "cell_type": "markdown",
   "metadata": {
    "colab_type": "text",
    "id": "O219m6yWAj9l"
   },
   "source": [
    "Compile protobufs and install the object_detection package"
   ]
  },
  {
   "cell_type": "code",
   "execution_count": 4,
   "metadata": {
    "colab": {},
    "colab_type": "code",
    "id": "PY41vdYYNlXc"
   },
   "outputs": [
    {
     "name": "stdout",
     "output_type": "stream",
     "text": [
      "Couldn't find program: 'bash'\n"
     ]
    }
   ],
   "source": [
    "%%bash\n",
    "cd models/research/\n",
    "protoc object_detection/protos/*.proto --python_out=."
   ]
  },
  {
   "cell_type": "code",
   "execution_count": 5,
   "metadata": {
    "colab": {},
    "colab_type": "code",
    "id": "s62yJyQUcYbp"
   },
   "outputs": [
    {
     "name": "stdout",
     "output_type": "stream",
     "text": [
      "Couldn't find program: 'bash'\n"
     ]
    }
   ],
   "source": [
    "%%bash \n",
    "cd models/research\n",
    "pip install ."
   ]
  },
  {
   "cell_type": "markdown",
   "metadata": {
    "colab_type": "text",
    "id": "LBdjK2G5ywuc"
   },
   "source": [
    "### Imports"
   ]
  },
  {
   "cell_type": "code",
   "execution_count": null,
   "metadata": {
    "colab": {},
    "colab_type": "code",
    "id": "hV4P5gyTWKMI"
   },
   "outputs": [],
   "source": [
    "import numpy as np\n",
    "import os\n",
    "import six.moves.urllib as urllib\n",
    "import sys\n",
    "import tarfile\n",
    "import tensorflow as tf\n",
    "import zipfile\n",
    "\n",
    "from collections import defaultdict\n",
    "from io import StringIO\n",
    "from matplotlib import pyplot as plt\n",
    "from PIL import Image\n",
    "from IPython.display import display\n"
   ]
  },
  {
   "cell_type": "markdown",
   "metadata": {
    "colab_type": "text",
    "id": "r5FNuiRPWKMN"
   },
   "source": [
    "Import the object detection module."
   ]
  },
  {
   "cell_type": "code",
   "execution_count": null,
   "metadata": {
    "colab": {},
    "colab_type": "code",
    "id": "4-IMl4b6BdGO"
   },
   "outputs": [],
   "source": [
    "from object_detection.utils import ops as utils_ops\n",
    "from object_detection.utils import label_map_util\n",
    "from object_detection.utils import visualization_utils as vis_util\n"
   ]
  },
  {
   "cell_type": "markdown",
   "metadata": {
    "colab_type": "text",
    "id": "RYPCiag2iz_q"
   },
   "source": [
    "Patches:"
   ]
  },
  {
   "cell_type": "code",
   "execution_count": null,
   "metadata": {
    "colab": {},
    "colab_type": "code",
    "id": "mF-YlMl8c_bM"
   },
   "outputs": [],
   "source": [
    "# patch tf1 into `utils.ops`\n",
    "utils_ops.tf = tf.compat.v1\n",
    "\n",
    "# Patch the location of gfile\n",
    "tf.gfile = tf.io.gfile"
   ]
  },
  {
   "cell_type": "markdown",
   "metadata": {
    "colab_type": "text",
    "id": "cfn_tRFOWKMO"
   },
   "source": [
    "# Model preparation "
   ]
  },
  {
   "cell_type": "markdown",
   "metadata": {
    "colab_type": "text",
    "id": "X_sEBLpVWKMQ"
   },
   "source": [
    "## Variables\n",
    "\n",
    "Any model exported using the `export_inference_graph.py` tool can be loaded here simply by changing the path.\n",
    "\n",
    "By default we use an \"SSD with Mobilenet\" model here. See the [detection model zoo](https://github.com/tensorflow/models/blob/master/research/object_detection/g3doc/detection_model_zoo.md) for a list of other models that can be run out-of-the-box with varying speeds and accuracies."
   ]
  },
  {
   "cell_type": "markdown",
   "metadata": {
    "colab_type": "text",
    "id": "7ai8pLZZWKMS"
   },
   "source": [
    "## Loader"
   ]
  },
  {
   "cell_type": "code",
   "execution_count": null,
   "metadata": {
    "colab": {},
    "colab_type": "code",
    "id": "zm8xp-0eoItE"
   },
   "outputs": [],
   "source": [
    "def load_model(model_name):\n",
    "  #base_url = 'http://download.tensorflow.org/models/object_detection/'\n",
    "  #model_file = model_name + '.tar.gz'\n",
    "  #model_dir = tf.keras.utils.get_file(\n",
    "  #  fname=model_name, \n",
    "  #  origin=base_url + model_file,\n",
    "  #  untar=True)\n",
    "\n",
    "  model_dir = \"C:/Users/Eugene Goh/models/research/object_detection/training/saved_model\"\n",
    "\n",
    "  model = tf.saved_model.load(str(model_dir))\n",
    "\n",
    "  return model"
   ]
  },
  {
   "cell_type": "markdown",
   "metadata": {
    "colab_type": "text",
    "id": "_1MVVTcLWKMW"
   },
   "source": [
    "## Loading label map\n",
    "Label maps map indices to category names, so that when our convolution network predicts `5`, we know that this corresponds to `airplane`.  Here we use internal utility functions, but anything that returns a dictionary mapping integers to appropriate string labels would be fine"
   ]
  },
  {
   "cell_type": "code",
   "execution_count": null,
   "metadata": {
    "colab": {},
    "colab_type": "code",
    "id": "hDbpHkiWWKMX"
   },
   "outputs": [],
   "source": [
    "# List of the strings that is used to add correct label for each box.\n",
    "PATH_TO_LABELS = 'C:/Users/Eugene Goh/models/research/object_detection/training/mask_label_map.pbtxt'\n",
    "category_index = label_map_util.create_category_index_from_labelmap(PATH_TO_LABELS, use_display_name=True)\n",
    "print(category_index)"
   ]
  },
  {
   "cell_type": "markdown",
   "metadata": {
    "colab_type": "text",
    "id": "oVU3U_J6IJVb"
   },
   "source": [
    "For the sake of simplicity we will test on 2 images:"
   ]
  },
  {
   "cell_type": "code",
   "execution_count": 21,
   "metadata": {
    "colab": {},
    "colab_type": "code",
    "id": "jG-zn5ykWKMd"
   },
   "outputs": [
    {
     "name": "stdout",
     "output_type": "stream",
     "text": [
      "['C:/Users/Eugene Goh/models/research/object_detection/images/test\\\\img1.jpg', 'C:/Users/Eugene Goh/models/research/object_detection/images/test\\\\img2.jpg', 'C:/Users/Eugene Goh/models/research/object_detection/images/test\\\\img3.jpg', 'C:/Users/Eugene Goh/models/research/object_detection/images/test\\\\img4.jpg', 'C:/Users/Eugene Goh/models/research/object_detection/images/test\\\\img5.jpg', 'C:/Users/Eugene Goh/models/research/object_detection/images/test\\\\img6.jpg', 'C:/Users/Eugene Goh/models/research/object_detection/images/test\\\\img7.jpg', 'C:/Users/Eugene Goh/models/research/object_detection/images/test\\\\img8.jpg', 'C:/Users/Eugene Goh/models/research/object_detection/images/test\\\\img9.jpg', 'C:/Users/Eugene Goh/models/research/object_detection/images/test\\\\img10.jpg', 'C:/Users/Eugene Goh/models/research/object_detection/images/test\\\\img11.jpg', 'C:/Users/Eugene Goh/models/research/object_detection/images/test\\\\img12.jpg', 'C:/Users/Eugene Goh/models/research/object_detection/images/test\\\\img13.jpg', 'C:/Users/Eugene Goh/models/research/object_detection/images/test\\\\img14.jpg', 'C:/Users/Eugene Goh/models/research/object_detection/images/test\\\\img15.jpg', 'C:/Users/Eugene Goh/models/research/object_detection/images/test\\\\img16.jpg', 'C:/Users/Eugene Goh/models/research/object_detection/images/test\\\\img17.jpg', 'C:/Users/Eugene Goh/models/research/object_detection/images/test\\\\img18.jpg', 'C:/Users/Eugene Goh/models/research/object_detection/images/test\\\\img19.jpg', 'C:/Users/Eugene Goh/models/research/object_detection/images/test\\\\img20.jpg', 'C:/Users/Eugene Goh/models/research/object_detection/images/test\\\\img21.jpg', 'C:/Users/Eugene Goh/models/research/object_detection/images/test\\\\img22.jpg', 'C:/Users/Eugene Goh/models/research/object_detection/images/test\\\\img23.jpg', 'C:/Users/Eugene Goh/models/research/object_detection/images/test\\\\img24.jpg', 'C:/Users/Eugene Goh/models/research/object_detection/images/test\\\\img25.jpg', 'C:/Users/Eugene Goh/models/research/object_detection/images/test\\\\img26.jpg', 'C:/Users/Eugene Goh/models/research/object_detection/images/test\\\\img27.jpg', 'C:/Users/Eugene Goh/models/research/object_detection/images/test\\\\img28.jpg', 'C:/Users/Eugene Goh/models/research/object_detection/images/test\\\\img29.jpg', 'C:/Users/Eugene Goh/models/research/object_detection/images/test\\\\img30.jpg', 'C:/Users/Eugene Goh/models/research/object_detection/images/test\\\\img31.jpg', 'C:/Users/Eugene Goh/models/research/object_detection/images/test\\\\img32.jpg', 'C:/Users/Eugene Goh/models/research/object_detection/images/test\\\\img33.jpg', 'C:/Users/Eugene Goh/models/research/object_detection/images/test\\\\img34.jpg', 'C:/Users/Eugene Goh/models/research/object_detection/images/test\\\\img35.jpg', 'C:/Users/Eugene Goh/models/research/object_detection/images/test\\\\img36.jpg']\n"
     ]
    }
   ],
   "source": [
    "# If you want to test the code with your images, just add path to the images to the TEST_IMAGE_PATHS.\n",
    "PATH_TO_TEST_IMAGES_DIR = 'C:/Users/Eugene Goh/models/research/object_detection/images/test_images'\n",
    "TEST_IMAGE_PATHS = [ os.path.join(PATH_TO_TEST_IMAGES_DIR, 'img{}.jpg'.format(i)) for i in range(1, 37) ]\n",
    "print(TEST_IMAGE_PATHS)"
   ]
  },
  {
   "cell_type": "markdown",
   "metadata": {
    "colab_type": "text",
    "id": "H0_1AGhrWKMc"
   },
   "source": [
    "# Detection"
   ]
  },
  {
   "cell_type": "markdown",
   "metadata": {
    "colab_type": "text",
    "id": "f7aOtOlebK7h"
   },
   "source": [
    "Load an object detection model:"
   ]
  },
  {
   "cell_type": "code",
   "execution_count": 22,
   "metadata": {
    "colab": {},
    "colab_type": "code",
    "id": "1XNT0wxybKR6"
   },
   "outputs": [
    {
     "name": "stdout",
     "output_type": "stream",
     "text": [
      "<tensorflow.python.saved_model.load.Loader._recreate_base_user_object.<locals>._UserObject object at 0x000001D1031D1B08>\n"
     ]
    }
   ],
   "source": [
    "model_name = 'faster_rcnn'\n",
    "detection_model = load_model(model_name)\n",
    "print(detection_model)"
   ]
  },
  {
   "cell_type": "markdown",
   "metadata": {
    "colab_type": "text",
    "id": "yN1AYfAEJIGp"
   },
   "source": [
    "Check the model's input signature, it expects a batch of 3-color images of type uint8:"
   ]
  },
  {
   "cell_type": "code",
   "execution_count": 23,
   "metadata": {
    "colab": {},
    "colab_type": "code",
    "id": "CK4cnry6wsHY"
   },
   "outputs": [
    {
     "name": "stdout",
     "output_type": "stream",
     "text": [
      "[<tf.Tensor 'input_tensor:0' shape=(1, None, None, 3) dtype=uint8>, <tf.Tensor 'unknown:0' shape=<unknown> dtype=resource>, <tf.Tensor 'unknown_0:0' shape=<unknown> dtype=resource>, <tf.Tensor 'unknown_1:0' shape=<unknown> dtype=resource>, <tf.Tensor 'unknown_2:0' shape=<unknown> dtype=resource>, <tf.Tensor 'unknown_3:0' shape=<unknown> dtype=resource>, <tf.Tensor 'unknown_4:0' shape=<unknown> dtype=resource>, <tf.Tensor 'unknown_5:0' shape=<unknown> dtype=resource>, <tf.Tensor 'unknown_6:0' shape=<unknown> dtype=resource>, <tf.Tensor 'unknown_7:0' shape=<unknown> dtype=resource>, <tf.Tensor 'unknown_8:0' shape=<unknown> dtype=resource>, <tf.Tensor 'unknown_9:0' shape=<unknown> dtype=resource>, <tf.Tensor 'unknown_10:0' shape=<unknown> dtype=resource>, <tf.Tensor 'unknown_11:0' shape=<unknown> dtype=resource>, <tf.Tensor 'unknown_12:0' shape=<unknown> dtype=resource>, <tf.Tensor 'unknown_13:0' shape=<unknown> dtype=resource>, <tf.Tensor 'unknown_14:0' shape=<unknown> dtype=resource>, <tf.Tensor 'unknown_15:0' shape=<unknown> dtype=resource>, <tf.Tensor 'unknown_16:0' shape=<unknown> dtype=resource>, <tf.Tensor 'unknown_17:0' shape=<unknown> dtype=resource>, <tf.Tensor 'unknown_18:0' shape=<unknown> dtype=resource>, <tf.Tensor 'unknown_19:0' shape=<unknown> dtype=resource>, <tf.Tensor 'unknown_20:0' shape=<unknown> dtype=resource>, <tf.Tensor 'unknown_21:0' shape=<unknown> dtype=resource>, <tf.Tensor 'unknown_22:0' shape=<unknown> dtype=resource>, <tf.Tensor 'unknown_23:0' shape=<unknown> dtype=resource>, <tf.Tensor 'unknown_24:0' shape=<unknown> dtype=resource>, <tf.Tensor 'unknown_25:0' shape=<unknown> dtype=resource>, <tf.Tensor 'unknown_26:0' shape=<unknown> dtype=resource>, <tf.Tensor 'unknown_27:0' shape=<unknown> dtype=resource>, <tf.Tensor 'unknown_28:0' shape=<unknown> dtype=resource>, <tf.Tensor 'unknown_29:0' shape=<unknown> dtype=resource>, <tf.Tensor 'unknown_30:0' shape=<unknown> dtype=resource>, <tf.Tensor 'unknown_31:0' shape=<unknown> dtype=resource>, <tf.Tensor 'unknown_32:0' shape=<unknown> dtype=resource>, <tf.Tensor 'unknown_33:0' shape=<unknown> dtype=resource>, <tf.Tensor 'unknown_34:0' shape=<unknown> dtype=resource>, <tf.Tensor 'unknown_35:0' shape=<unknown> dtype=resource>, <tf.Tensor 'unknown_36:0' shape=<unknown> dtype=resource>, <tf.Tensor 'unknown_37:0' shape=<unknown> dtype=resource>, <tf.Tensor 'unknown_38:0' shape=<unknown> dtype=resource>, <tf.Tensor 'unknown_39:0' shape=<unknown> dtype=resource>, <tf.Tensor 'unknown_40:0' shape=<unknown> dtype=resource>, <tf.Tensor 'unknown_41:0' shape=<unknown> dtype=resource>, <tf.Tensor 'unknown_42:0' shape=<unknown> dtype=resource>, <tf.Tensor 'unknown_43:0' shape=<unknown> dtype=resource>, <tf.Tensor 'unknown_44:0' shape=<unknown> dtype=resource>, <tf.Tensor 'unknown_45:0' shape=<unknown> dtype=resource>, <tf.Tensor 'unknown_46:0' shape=<unknown> dtype=resource>, <tf.Tensor 'unknown_47:0' shape=<unknown> dtype=resource>, <tf.Tensor 'unknown_48:0' shape=<unknown> dtype=resource>, <tf.Tensor 'unknown_49:0' shape=<unknown> dtype=resource>, <tf.Tensor 'unknown_50:0' shape=<unknown> dtype=resource>, <tf.Tensor 'unknown_51:0' shape=<unknown> dtype=resource>, <tf.Tensor 'unknown_52:0' shape=<unknown> dtype=resource>, <tf.Tensor 'unknown_53:0' shape=<unknown> dtype=resource>, <tf.Tensor 'unknown_54:0' shape=<unknown> dtype=resource>, <tf.Tensor 'unknown_55:0' shape=<unknown> dtype=resource>, <tf.Tensor 'unknown_56:0' shape=<unknown> dtype=resource>, <tf.Tensor 'unknown_57:0' shape=<unknown> dtype=resource>, <tf.Tensor 'unknown_58:0' shape=<unknown> dtype=resource>, <tf.Tensor 'unknown_59:0' shape=<unknown> dtype=resource>, <tf.Tensor 'unknown_60:0' shape=<unknown> dtype=resource>, <tf.Tensor 'unknown_61:0' shape=<unknown> dtype=resource>, <tf.Tensor 'unknown_62:0' shape=<unknown> dtype=resource>, <tf.Tensor 'unknown_63:0' shape=<unknown> dtype=resource>, <tf.Tensor 'unknown_64:0' shape=<unknown> dtype=resource>, <tf.Tensor 'unknown_65:0' shape=<unknown> dtype=resource>, <tf.Tensor 'unknown_66:0' shape=<unknown> dtype=resource>, <tf.Tensor 'unknown_67:0' shape=<unknown> dtype=resource>, <tf.Tensor 'unknown_68:0' shape=<unknown> dtype=resource>, <tf.Tensor 'unknown_69:0' shape=<unknown> dtype=resource>, <tf.Tensor 'unknown_70:0' shape=<unknown> dtype=resource>, <tf.Tensor 'unknown_71:0' shape=<unknown> dtype=resource>, <tf.Tensor 'unknown_72:0' shape=<unknown> dtype=resource>, <tf.Tensor 'unknown_73:0' shape=<unknown> dtype=resource>, <tf.Tensor 'unknown_74:0' shape=<unknown> dtype=resource>, <tf.Tensor 'unknown_75:0' shape=<unknown> dtype=resource>, <tf.Tensor 'unknown_76:0' shape=<unknown> dtype=resource>, <tf.Tensor 'unknown_77:0' shape=<unknown> dtype=resource>, <tf.Tensor 'unknown_78:0' shape=<unknown> dtype=resource>, <tf.Tensor 'unknown_79:0' shape=<unknown> dtype=resource>, <tf.Tensor 'unknown_80:0' shape=<unknown> dtype=resource>, <tf.Tensor 'unknown_81:0' shape=<unknown> dtype=resource>, <tf.Tensor 'unknown_82:0' shape=<unknown> dtype=resource>, <tf.Tensor 'unknown_83:0' shape=<unknown> dtype=resource>, <tf.Tensor 'unknown_84:0' shape=<unknown> dtype=resource>, <tf.Tensor 'unknown_85:0' shape=<unknown> dtype=resource>, <tf.Tensor 'unknown_86:0' shape=<unknown> dtype=resource>, <tf.Tensor 'unknown_87:0' shape=<unknown> dtype=resource>, <tf.Tensor 'unknown_88:0' shape=<unknown> dtype=resource>, <tf.Tensor 'unknown_89:0' shape=<unknown> dtype=resource>, <tf.Tensor 'unknown_90:0' shape=<unknown> dtype=resource>, <tf.Tensor 'unknown_91:0' shape=<unknown> dtype=resource>, <tf.Tensor 'unknown_92:0' shape=<unknown> dtype=resource>, <tf.Tensor 'unknown_93:0' shape=<unknown> dtype=resource>, <tf.Tensor 'unknown_94:0' shape=<unknown> dtype=resource>, <tf.Tensor 'unknown_95:0' shape=<unknown> dtype=resource>, <tf.Tensor 'unknown_96:0' shape=<unknown> dtype=resource>, <tf.Tensor 'unknown_97:0' shape=<unknown> dtype=resource>, <tf.Tensor 'unknown_98:0' shape=<unknown> dtype=resource>, <tf.Tensor 'unknown_99:0' shape=<unknown> dtype=resource>, <tf.Tensor 'unknown_100:0' shape=<unknown> dtype=resource>, <tf.Tensor 'unknown_101:0' shape=<unknown> dtype=resource>, <tf.Tensor 'unknown_102:0' shape=<unknown> dtype=resource>, <tf.Tensor 'unknown_103:0' shape=<unknown> dtype=resource>, <tf.Tensor 'unknown_104:0' shape=<unknown> dtype=resource>, <tf.Tensor 'unknown_105:0' shape=<unknown> dtype=resource>, <tf.Tensor 'unknown_106:0' shape=<unknown> dtype=resource>, <tf.Tensor 'unknown_107:0' shape=<unknown> dtype=resource>, <tf.Tensor 'unknown_108:0' shape=<unknown> dtype=resource>, <tf.Tensor 'unknown_109:0' shape=<unknown> dtype=resource>, <tf.Tensor 'unknown_110:0' shape=<unknown> dtype=resource>, <tf.Tensor 'unknown_111:0' shape=<unknown> dtype=resource>, <tf.Tensor 'unknown_112:0' shape=<unknown> dtype=resource>, <tf.Tensor 'unknown_113:0' shape=<unknown> dtype=resource>, <tf.Tensor 'unknown_114:0' shape=<unknown> dtype=resource>, <tf.Tensor 'unknown_115:0' shape=<unknown> dtype=resource>, <tf.Tensor 'unknown_116:0' shape=<unknown> dtype=resource>, <tf.Tensor 'unknown_117:0' shape=<unknown> dtype=resource>, <tf.Tensor 'unknown_118:0' shape=<unknown> dtype=resource>, <tf.Tensor 'unknown_119:0' shape=<unknown> dtype=resource>, <tf.Tensor 'unknown_120:0' shape=<unknown> dtype=resource>, <tf.Tensor 'unknown_121:0' shape=<unknown> dtype=resource>, <tf.Tensor 'unknown_122:0' shape=<unknown> dtype=resource>, <tf.Tensor 'unknown_123:0' shape=<unknown> dtype=resource>, <tf.Tensor 'unknown_124:0' shape=<unknown> dtype=resource>, <tf.Tensor 'unknown_125:0' shape=<unknown> dtype=resource>, <tf.Tensor 'unknown_126:0' shape=<unknown> dtype=resource>, <tf.Tensor 'unknown_127:0' shape=<unknown> dtype=resource>, <tf.Tensor 'unknown_128:0' shape=<unknown> dtype=resource>, <tf.Tensor 'unknown_129:0' shape=<unknown> dtype=resource>, <tf.Tensor 'unknown_130:0' shape=<unknown> dtype=resource>, <tf.Tensor 'unknown_131:0' shape=<unknown> dtype=resource>, <tf.Tensor 'unknown_132:0' shape=<unknown> dtype=resource>, <tf.Tensor 'unknown_133:0' shape=<unknown> dtype=resource>, <tf.Tensor 'unknown_134:0' shape=<unknown> dtype=resource>, <tf.Tensor 'unknown_135:0' shape=<unknown> dtype=resource>, <tf.Tensor 'unknown_136:0' shape=<unknown> dtype=resource>, <tf.Tensor 'unknown_137:0' shape=<unknown> dtype=resource>, <tf.Tensor 'unknown_138:0' shape=<unknown> dtype=resource>, <tf.Tensor 'unknown_139:0' shape=<unknown> dtype=resource>, <tf.Tensor 'unknown_140:0' shape=<unknown> dtype=resource>, <tf.Tensor 'unknown_141:0' shape=<unknown> dtype=resource>, <tf.Tensor 'unknown_142:0' shape=<unknown> dtype=resource>, <tf.Tensor 'unknown_143:0' shape=<unknown> dtype=resource>, <tf.Tensor 'unknown_144:0' shape=<unknown> dtype=resource>, <tf.Tensor 'unknown_145:0' shape=<unknown> dtype=resource>, <tf.Tensor 'unknown_146:0' shape=<unknown> dtype=resource>, <tf.Tensor 'unknown_147:0' shape=<unknown> dtype=resource>, <tf.Tensor 'unknown_148:0' shape=<unknown> dtype=resource>, <tf.Tensor 'unknown_149:0' shape=<unknown> dtype=resource>, <tf.Tensor 'unknown_150:0' shape=<unknown> dtype=resource>, <tf.Tensor 'unknown_151:0' shape=<unknown> dtype=resource>, <tf.Tensor 'unknown_152:0' shape=<unknown> dtype=resource>, <tf.Tensor 'unknown_153:0' shape=<unknown> dtype=resource>, <tf.Tensor 'unknown_154:0' shape=<unknown> dtype=resource>, <tf.Tensor 'unknown_155:0' shape=<unknown> dtype=resource>, <tf.Tensor 'unknown_156:0' shape=<unknown> dtype=resource>, <tf.Tensor 'unknown_157:0' shape=<unknown> dtype=resource>, <tf.Tensor 'unknown_158:0' shape=<unknown> dtype=resource>, <tf.Tensor 'unknown_159:0' shape=<unknown> dtype=resource>, <tf.Tensor 'unknown_160:0' shape=<unknown> dtype=resource>, <tf.Tensor 'unknown_161:0' shape=<unknown> dtype=resource>, <tf.Tensor 'unknown_162:0' shape=<unknown> dtype=resource>, <tf.Tensor 'unknown_163:0' shape=<unknown> dtype=resource>, <tf.Tensor 'unknown_164:0' shape=<unknown> dtype=resource>, <tf.Tensor 'unknown_165:0' shape=<unknown> dtype=resource>, <tf.Tensor 'unknown_166:0' shape=<unknown> dtype=resource>, <tf.Tensor 'unknown_167:0' shape=<unknown> dtype=resource>, <tf.Tensor 'unknown_168:0' shape=<unknown> dtype=resource>, <tf.Tensor 'unknown_169:0' shape=<unknown> dtype=resource>, <tf.Tensor 'unknown_170:0' shape=<unknown> dtype=resource>, <tf.Tensor 'unknown_171:0' shape=<unknown> dtype=resource>, <tf.Tensor 'unknown_172:0' shape=<unknown> dtype=resource>, <tf.Tensor 'unknown_173:0' shape=<unknown> dtype=resource>, <tf.Tensor 'unknown_174:0' shape=<unknown> dtype=resource>, <tf.Tensor 'unknown_175:0' shape=<unknown> dtype=resource>, <tf.Tensor 'unknown_176:0' shape=<unknown> dtype=resource>, <tf.Tensor 'unknown_177:0' shape=<unknown> dtype=resource>, <tf.Tensor 'unknown_178:0' shape=<unknown> dtype=resource>, <tf.Tensor 'unknown_179:0' shape=<unknown> dtype=resource>, <tf.Tensor 'unknown_180:0' shape=<unknown> dtype=resource>, <tf.Tensor 'unknown_181:0' shape=<unknown> dtype=resource>, <tf.Tensor 'unknown_182:0' shape=<unknown> dtype=resource>, <tf.Tensor 'unknown_183:0' shape=<unknown> dtype=resource>, <tf.Tensor 'unknown_184:0' shape=<unknown> dtype=resource>, <tf.Tensor 'unknown_185:0' shape=<unknown> dtype=resource>, <tf.Tensor 'unknown_186:0' shape=<unknown> dtype=resource>, <tf.Tensor 'unknown_187:0' shape=<unknown> dtype=resource>, <tf.Tensor 'unknown_188:0' shape=<unknown> dtype=resource>, <tf.Tensor 'unknown_189:0' shape=<unknown> dtype=resource>, <tf.Tensor 'unknown_190:0' shape=<unknown> dtype=resource>, <tf.Tensor 'unknown_191:0' shape=<unknown> dtype=resource>, <tf.Tensor 'unknown_192:0' shape=<unknown> dtype=resource>, <tf.Tensor 'unknown_193:0' shape=<unknown> dtype=resource>, <tf.Tensor 'unknown_194:0' shape=<unknown> dtype=resource>, <tf.Tensor 'unknown_195:0' shape=<unknown> dtype=resource>, <tf.Tensor 'unknown_196:0' shape=<unknown> dtype=resource>, <tf.Tensor 'unknown_197:0' shape=<unknown> dtype=resource>, <tf.Tensor 'unknown_198:0' shape=<unknown> dtype=resource>, <tf.Tensor 'unknown_199:0' shape=<unknown> dtype=resource>, <tf.Tensor 'unknown_200:0' shape=<unknown> dtype=resource>, <tf.Tensor 'unknown_201:0' shape=<unknown> dtype=resource>, <tf.Tensor 'unknown_202:0' shape=<unknown> dtype=resource>, <tf.Tensor 'unknown_203:0' shape=<unknown> dtype=resource>, <tf.Tensor 'unknown_204:0' shape=<unknown> dtype=resource>, <tf.Tensor 'unknown_205:0' shape=<unknown> dtype=resource>, <tf.Tensor 'unknown_206:0' shape=<unknown> dtype=resource>, <tf.Tensor 'unknown_207:0' shape=<unknown> dtype=resource>, <tf.Tensor 'unknown_208:0' shape=<unknown> dtype=resource>, <tf.Tensor 'unknown_209:0' shape=<unknown> dtype=resource>, <tf.Tensor 'unknown_210:0' shape=<unknown> dtype=resource>, <tf.Tensor 'unknown_211:0' shape=<unknown> dtype=resource>, <tf.Tensor 'unknown_212:0' shape=<unknown> dtype=resource>, <tf.Tensor 'unknown_213:0' shape=<unknown> dtype=resource>, <tf.Tensor 'unknown_214:0' shape=<unknown> dtype=resource>, <tf.Tensor 'unknown_215:0' shape=<unknown> dtype=resource>, <tf.Tensor 'unknown_216:0' shape=<unknown> dtype=resource>, <tf.Tensor 'unknown_217:0' shape=<unknown> dtype=resource>, <tf.Tensor 'unknown_218:0' shape=<unknown> dtype=resource>, <tf.Tensor 'unknown_219:0' shape=<unknown> dtype=resource>, <tf.Tensor 'unknown_220:0' shape=<unknown> dtype=resource>, <tf.Tensor 'unknown_221:0' shape=<unknown> dtype=resource>, <tf.Tensor 'unknown_222:0' shape=<unknown> dtype=resource>, <tf.Tensor 'unknown_223:0' shape=<unknown> dtype=resource>, <tf.Tensor 'unknown_224:0' shape=<unknown> dtype=resource>, <tf.Tensor 'unknown_225:0' shape=<unknown> dtype=resource>, <tf.Tensor 'unknown_226:0' shape=<unknown> dtype=resource>, <tf.Tensor 'unknown_227:0' shape=<unknown> dtype=resource>, <tf.Tensor 'unknown_228:0' shape=<unknown> dtype=resource>, <tf.Tensor 'unknown_229:0' shape=<unknown> dtype=resource>, <tf.Tensor 'unknown_230:0' shape=<unknown> dtype=resource>, <tf.Tensor 'unknown_231:0' shape=<unknown> dtype=resource>, <tf.Tensor 'unknown_232:0' shape=<unknown> dtype=resource>, <tf.Tensor 'unknown_233:0' shape=<unknown> dtype=resource>, <tf.Tensor 'unknown_234:0' shape=<unknown> dtype=resource>, <tf.Tensor 'unknown_235:0' shape=<unknown> dtype=resource>, <tf.Tensor 'unknown_236:0' shape=<unknown> dtype=resource>, <tf.Tensor 'unknown_237:0' shape=<unknown> dtype=resource>, <tf.Tensor 'unknown_238:0' shape=<unknown> dtype=resource>, <tf.Tensor 'unknown_239:0' shape=<unknown> dtype=resource>, <tf.Tensor 'unknown_240:0' shape=<unknown> dtype=resource>, <tf.Tensor 'unknown_241:0' shape=<unknown> dtype=resource>, <tf.Tensor 'unknown_242:0' shape=<unknown> dtype=resource>, <tf.Tensor 'unknown_243:0' shape=<unknown> dtype=resource>, <tf.Tensor 'unknown_244:0' shape=<unknown> dtype=resource>, <tf.Tensor 'unknown_245:0' shape=<unknown> dtype=resource>, <tf.Tensor 'unknown_246:0' shape=<unknown> dtype=resource>, <tf.Tensor 'unknown_247:0' shape=<unknown> dtype=resource>, <tf.Tensor 'unknown_248:0' shape=<unknown> dtype=resource>, <tf.Tensor 'unknown_249:0' shape=<unknown> dtype=resource>, <tf.Tensor 'unknown_250:0' shape=<unknown> dtype=resource>, <tf.Tensor 'unknown_251:0' shape=<unknown> dtype=resource>, <tf.Tensor 'unknown_252:0' shape=<unknown> dtype=resource>, <tf.Tensor 'unknown_253:0' shape=<unknown> dtype=resource>, <tf.Tensor 'unknown_254:0' shape=<unknown> dtype=resource>, <tf.Tensor 'unknown_255:0' shape=<unknown> dtype=resource>, <tf.Tensor 'unknown_256:0' shape=<unknown> dtype=resource>, <tf.Tensor 'unknown_257:0' shape=<unknown> dtype=resource>, <tf.Tensor 'unknown_258:0' shape=<unknown> dtype=resource>, <tf.Tensor 'unknown_259:0' shape=<unknown> dtype=resource>, <tf.Tensor 'unknown_260:0' shape=<unknown> dtype=resource>, <tf.Tensor 'unknown_261:0' shape=<unknown> dtype=resource>, <tf.Tensor 'unknown_262:0' shape=<unknown> dtype=resource>, <tf.Tensor 'unknown_263:0' shape=<unknown> dtype=resource>, <tf.Tensor 'unknown_264:0' shape=<unknown> dtype=resource>, <tf.Tensor 'unknown_265:0' shape=<unknown> dtype=resource>, <tf.Tensor 'unknown_266:0' shape=<unknown> dtype=resource>, <tf.Tensor 'unknown_267:0' shape=<unknown> dtype=resource>, <tf.Tensor 'unknown_268:0' shape=<unknown> dtype=resource>, <tf.Tensor 'unknown_269:0' shape=<unknown> dtype=resource>, <tf.Tensor 'unknown_270:0' shape=<unknown> dtype=resource>, <tf.Tensor 'unknown_271:0' shape=<unknown> dtype=resource>, <tf.Tensor 'unknown_272:0' shape=<unknown> dtype=resource>, <tf.Tensor 'unknown_273:0' shape=<unknown> dtype=resource>, <tf.Tensor 'unknown_274:0' shape=<unknown> dtype=resource>, <tf.Tensor 'unknown_275:0' shape=<unknown> dtype=resource>, <tf.Tensor 'unknown_276:0' shape=<unknown> dtype=resource>, <tf.Tensor 'unknown_277:0' shape=<unknown> dtype=resource>, <tf.Tensor 'unknown_278:0' shape=<unknown> dtype=resource>, <tf.Tensor 'unknown_279:0' shape=<unknown> dtype=resource>, <tf.Tensor 'unknown_280:0' shape=<unknown> dtype=resource>, <tf.Tensor 'unknown_281:0' shape=<unknown> dtype=resource>, <tf.Tensor 'unknown_282:0' shape=<unknown> dtype=resource>, <tf.Tensor 'unknown_283:0' shape=<unknown> dtype=resource>, <tf.Tensor 'unknown_284:0' shape=<unknown> dtype=resource>, <tf.Tensor 'unknown_285:0' shape=<unknown> dtype=resource>, <tf.Tensor 'unknown_286:0' shape=<unknown> dtype=resource>, <tf.Tensor 'unknown_287:0' shape=<unknown> dtype=resource>, <tf.Tensor 'unknown_288:0' shape=<unknown> dtype=resource>, <tf.Tensor 'unknown_289:0' shape=<unknown> dtype=resource>, <tf.Tensor 'unknown_290:0' shape=<unknown> dtype=resource>, <tf.Tensor 'unknown_291:0' shape=<unknown> dtype=resource>, <tf.Tensor 'unknown_292:0' shape=<unknown> dtype=resource>, <tf.Tensor 'unknown_293:0' shape=<unknown> dtype=resource>, <tf.Tensor 'unknown_294:0' shape=<unknown> dtype=resource>, <tf.Tensor 'unknown_295:0' shape=<unknown> dtype=resource>, <tf.Tensor 'unknown_296:0' shape=<unknown> dtype=resource>, <tf.Tensor 'unknown_297:0' shape=<unknown> dtype=resource>, <tf.Tensor 'unknown_298:0' shape=<unknown> dtype=resource>, <tf.Tensor 'unknown_299:0' shape=<unknown> dtype=resource>, <tf.Tensor 'unknown_300:0' shape=<unknown> dtype=resource>, <tf.Tensor 'unknown_301:0' shape=<unknown> dtype=resource>, <tf.Tensor 'unknown_302:0' shape=<unknown> dtype=resource>, <tf.Tensor 'unknown_303:0' shape=<unknown> dtype=resource>, <tf.Tensor 'unknown_304:0' shape=<unknown> dtype=resource>, <tf.Tensor 'unknown_305:0' shape=<unknown> dtype=resource>, <tf.Tensor 'unknown_306:0' shape=<unknown> dtype=resource>, <tf.Tensor 'unknown_307:0' shape=<unknown> dtype=resource>, <tf.Tensor 'unknown_308:0' shape=<unknown> dtype=resource>, <tf.Tensor 'unknown_309:0' shape=<unknown> dtype=resource>, <tf.Tensor 'unknown_310:0' shape=<unknown> dtype=resource>, <tf.Tensor 'unknown_311:0' shape=<unknown> dtype=resource>, <tf.Tensor 'unknown_312:0' shape=<unknown> dtype=resource>, <tf.Tensor 'unknown_313:0' shape=<unknown> dtype=resource>, <tf.Tensor 'unknown_314:0' shape=<unknown> dtype=resource>, <tf.Tensor 'unknown_315:0' shape=<unknown> dtype=resource>, <tf.Tensor 'unknown_316:0' shape=<unknown> dtype=resource>, <tf.Tensor 'unknown_317:0' shape=<unknown> dtype=resource>, <tf.Tensor 'unknown_318:0' shape=<unknown> dtype=resource>, <tf.Tensor 'unknown_319:0' shape=<unknown> dtype=resource>, <tf.Tensor 'unknown_320:0' shape=<unknown> dtype=resource>, <tf.Tensor 'unknown_321:0' shape=<unknown> dtype=resource>, <tf.Tensor 'unknown_322:0' shape=<unknown> dtype=resource>, <tf.Tensor 'unknown_323:0' shape=<unknown> dtype=resource>, <tf.Tensor 'unknown_324:0' shape=<unknown> dtype=resource>, <tf.Tensor 'unknown_325:0' shape=<unknown> dtype=resource>, <tf.Tensor 'unknown_326:0' shape=<unknown> dtype=resource>, <tf.Tensor 'unknown_327:0' shape=<unknown> dtype=resource>, <tf.Tensor 'unknown_328:0' shape=<unknown> dtype=resource>, <tf.Tensor 'unknown_329:0' shape=<unknown> dtype=resource>, <tf.Tensor 'unknown_330:0' shape=<unknown> dtype=resource>, <tf.Tensor 'unknown_331:0' shape=<unknown> dtype=resource>, <tf.Tensor 'unknown_332:0' shape=<unknown> dtype=resource>, <tf.Tensor 'unknown_333:0' shape=<unknown> dtype=resource>, <tf.Tensor 'unknown_334:0' shape=<unknown> dtype=resource>, <tf.Tensor 'unknown_335:0' shape=<unknown> dtype=resource>, <tf.Tensor 'unknown_336:0' shape=<unknown> dtype=resource>, <tf.Tensor 'unknown_337:0' shape=<unknown> dtype=resource>, <tf.Tensor 'unknown_338:0' shape=<unknown> dtype=resource>, <tf.Tensor 'unknown_339:0' shape=<unknown> dtype=resource>, <tf.Tensor 'unknown_340:0' shape=<unknown> dtype=resource>, <tf.Tensor 'unknown_341:0' shape=<unknown> dtype=resource>, <tf.Tensor 'unknown_342:0' shape=<unknown> dtype=resource>, <tf.Tensor 'unknown_343:0' shape=<unknown> dtype=resource>, <tf.Tensor 'unknown_344:0' shape=<unknown> dtype=resource>, <tf.Tensor 'unknown_345:0' shape=<unknown> dtype=resource>, <tf.Tensor 'unknown_346:0' shape=<unknown> dtype=resource>, <tf.Tensor 'unknown_347:0' shape=<unknown> dtype=resource>, <tf.Tensor 'unknown_348:0' shape=<unknown> dtype=resource>, <tf.Tensor 'unknown_349:0' shape=<unknown> dtype=resource>, <tf.Tensor 'unknown_350:0' shape=<unknown> dtype=resource>, <tf.Tensor 'unknown_351:0' shape=<unknown> dtype=resource>, <tf.Tensor 'unknown_352:0' shape=<unknown> dtype=resource>, <tf.Tensor 'unknown_353:0' shape=<unknown> dtype=resource>, <tf.Tensor 'unknown_354:0' shape=<unknown> dtype=resource>, <tf.Tensor 'unknown_355:0' shape=<unknown> dtype=resource>, <tf.Tensor 'unknown_356:0' shape=<unknown> dtype=resource>, <tf.Tensor 'unknown_357:0' shape=<unknown> dtype=resource>, <tf.Tensor 'unknown_358:0' shape=<unknown> dtype=resource>, <tf.Tensor 'unknown_359:0' shape=<unknown> dtype=resource>, <tf.Tensor 'unknown_360:0' shape=<unknown> dtype=resource>, <tf.Tensor 'unknown_361:0' shape=<unknown> dtype=resource>, <tf.Tensor 'unknown_362:0' shape=<unknown> dtype=resource>, <tf.Tensor 'unknown_363:0' shape=<unknown> dtype=resource>, <tf.Tensor 'unknown_364:0' shape=<unknown> dtype=resource>, <tf.Tensor 'unknown_365:0' shape=<unknown> dtype=resource>, <tf.Tensor 'unknown_366:0' shape=<unknown> dtype=resource>, <tf.Tensor 'unknown_367:0' shape=<unknown> dtype=resource>, <tf.Tensor 'unknown_368:0' shape=<unknown> dtype=resource>, <tf.Tensor 'unknown_369:0' shape=<unknown> dtype=resource>, <tf.Tensor 'unknown_370:0' shape=<unknown> dtype=resource>, <tf.Tensor 'unknown_371:0' shape=<unknown> dtype=resource>, <tf.Tensor 'unknown_372:0' shape=<unknown> dtype=resource>, <tf.Tensor 'unknown_373:0' shape=<unknown> dtype=resource>, <tf.Tensor 'unknown_374:0' shape=<unknown> dtype=resource>, <tf.Tensor 'unknown_375:0' shape=<unknown> dtype=resource>, <tf.Tensor 'unknown_376:0' shape=<unknown> dtype=resource>, <tf.Tensor 'unknown_377:0' shape=<unknown> dtype=resource>, <tf.Tensor 'unknown_378:0' shape=<unknown> dtype=resource>, <tf.Tensor 'unknown_379:0' shape=<unknown> dtype=resource>, <tf.Tensor 'unknown_380:0' shape=<unknown> dtype=resource>, <tf.Tensor 'unknown_381:0' shape=<unknown> dtype=resource>, <tf.Tensor 'unknown_382:0' shape=<unknown> dtype=resource>, <tf.Tensor 'unknown_383:0' shape=<unknown> dtype=resource>, <tf.Tensor 'unknown_384:0' shape=<unknown> dtype=resource>, <tf.Tensor 'unknown_385:0' shape=<unknown> dtype=resource>, <tf.Tensor 'unknown_386:0' shape=<unknown> dtype=resource>, <tf.Tensor 'unknown_387:0' shape=<unknown> dtype=resource>, <tf.Tensor 'unknown_388:0' shape=<unknown> dtype=resource>, <tf.Tensor 'unknown_389:0' shape=<unknown> dtype=resource>, <tf.Tensor 'unknown_390:0' shape=<unknown> dtype=resource>, <tf.Tensor 'unknown_391:0' shape=<unknown> dtype=resource>, <tf.Tensor 'unknown_392:0' shape=<unknown> dtype=resource>, <tf.Tensor 'unknown_393:0' shape=<unknown> dtype=resource>, <tf.Tensor 'unknown_394:0' shape=<unknown> dtype=resource>, <tf.Tensor 'unknown_395:0' shape=<unknown> dtype=resource>, <tf.Tensor 'unknown_396:0' shape=<unknown> dtype=resource>, <tf.Tensor 'unknown_397:0' shape=<unknown> dtype=resource>, <tf.Tensor 'unknown_398:0' shape=<unknown> dtype=resource>, <tf.Tensor 'unknown_399:0' shape=<unknown> dtype=resource>, <tf.Tensor 'unknown_400:0' shape=<unknown> dtype=resource>, <tf.Tensor 'unknown_401:0' shape=<unknown> dtype=resource>, <tf.Tensor 'unknown_402:0' shape=<unknown> dtype=resource>, <tf.Tensor 'unknown_403:0' shape=<unknown> dtype=resource>, <tf.Tensor 'unknown_404:0' shape=<unknown> dtype=resource>, <tf.Tensor 'unknown_405:0' shape=<unknown> dtype=resource>, <tf.Tensor 'unknown_406:0' shape=<unknown> dtype=resource>, <tf.Tensor 'unknown_407:0' shape=<unknown> dtype=resource>, <tf.Tensor 'unknown_408:0' shape=<unknown> dtype=resource>, <tf.Tensor 'unknown_409:0' shape=<unknown> dtype=resource>, <tf.Tensor 'unknown_410:0' shape=<unknown> dtype=resource>, <tf.Tensor 'unknown_411:0' shape=<unknown> dtype=resource>, <tf.Tensor 'unknown_412:0' shape=<unknown> dtype=resource>, <tf.Tensor 'unknown_413:0' shape=<unknown> dtype=resource>, <tf.Tensor 'unknown_414:0' shape=<unknown> dtype=resource>, <tf.Tensor 'unknown_415:0' shape=<unknown> dtype=resource>, <tf.Tensor 'unknown_416:0' shape=<unknown> dtype=resource>, <tf.Tensor 'unknown_417:0' shape=<unknown> dtype=resource>, <tf.Tensor 'unknown_418:0' shape=<unknown> dtype=resource>, <tf.Tensor 'unknown_419:0' shape=<unknown> dtype=resource>, <tf.Tensor 'unknown_420:0' shape=<unknown> dtype=resource>, <tf.Tensor 'unknown_421:0' shape=<unknown> dtype=resource>, <tf.Tensor 'unknown_422:0' shape=<unknown> dtype=resource>, <tf.Tensor 'unknown_423:0' shape=<unknown> dtype=resource>, <tf.Tensor 'unknown_424:0' shape=<unknown> dtype=resource>, <tf.Tensor 'unknown_425:0' shape=<unknown> dtype=resource>, <tf.Tensor 'unknown_426:0' shape=<unknown> dtype=resource>, <tf.Tensor 'unknown_427:0' shape=<unknown> dtype=resource>, <tf.Tensor 'unknown_428:0' shape=<unknown> dtype=resource>, <tf.Tensor 'unknown_429:0' shape=<unknown> dtype=resource>, <tf.Tensor 'unknown_430:0' shape=<unknown> dtype=resource>, <tf.Tensor 'unknown_431:0' shape=<unknown> dtype=resource>, <tf.Tensor 'unknown_432:0' shape=<unknown> dtype=resource>, <tf.Tensor 'unknown_433:0' shape=<unknown> dtype=resource>, <tf.Tensor 'unknown_434:0' shape=<unknown> dtype=resource>, <tf.Tensor 'unknown_435:0' shape=<unknown> dtype=resource>, <tf.Tensor 'unknown_436:0' shape=<unknown> dtype=resource>, <tf.Tensor 'unknown_437:0' shape=<unknown> dtype=resource>, <tf.Tensor 'unknown_438:0' shape=<unknown> dtype=resource>, <tf.Tensor 'unknown_439:0' shape=<unknown> dtype=resource>, <tf.Tensor 'unknown_440:0' shape=<unknown> dtype=resource>, <tf.Tensor 'unknown_441:0' shape=<unknown> dtype=resource>, <tf.Tensor 'unknown_442:0' shape=<unknown> dtype=resource>, <tf.Tensor 'unknown_443:0' shape=<unknown> dtype=resource>, <tf.Tensor 'unknown_444:0' shape=<unknown> dtype=resource>, <tf.Tensor 'unknown_445:0' shape=<unknown> dtype=resource>, <tf.Tensor 'unknown_446:0' shape=<unknown> dtype=resource>, <tf.Tensor 'unknown_447:0' shape=<unknown> dtype=resource>, <tf.Tensor 'unknown_448:0' shape=<unknown> dtype=resource>, <tf.Tensor 'unknown_449:0' shape=<unknown> dtype=resource>, <tf.Tensor 'unknown_450:0' shape=<unknown> dtype=resource>, <tf.Tensor 'unknown_451:0' shape=<unknown> dtype=resource>, <tf.Tensor 'unknown_452:0' shape=<unknown> dtype=resource>, <tf.Tensor 'unknown_453:0' shape=<unknown> dtype=resource>, <tf.Tensor 'unknown_454:0' shape=<unknown> dtype=resource>, <tf.Tensor 'unknown_455:0' shape=<unknown> dtype=resource>, <tf.Tensor 'unknown_456:0' shape=<unknown> dtype=resource>, <tf.Tensor 'unknown_457:0' shape=<unknown> dtype=resource>, <tf.Tensor 'unknown_458:0' shape=<unknown> dtype=resource>, <tf.Tensor 'unknown_459:0' shape=<unknown> dtype=resource>, <tf.Tensor 'unknown_460:0' shape=<unknown> dtype=resource>, <tf.Tensor 'unknown_461:0' shape=<unknown> dtype=resource>, <tf.Tensor 'unknown_462:0' shape=<unknown> dtype=resource>, <tf.Tensor 'unknown_463:0' shape=<unknown> dtype=resource>, <tf.Tensor 'unknown_464:0' shape=<unknown> dtype=resource>, <tf.Tensor 'unknown_465:0' shape=<unknown> dtype=resource>, <tf.Tensor 'unknown_466:0' shape=<unknown> dtype=resource>, <tf.Tensor 'unknown_467:0' shape=<unknown> dtype=resource>, <tf.Tensor 'unknown_468:0' shape=<unknown> dtype=resource>, <tf.Tensor 'unknown_469:0' shape=<unknown> dtype=resource>, <tf.Tensor 'unknown_470:0' shape=<unknown> dtype=resource>, <tf.Tensor 'unknown_471:0' shape=(2,) dtype=float32>, <tf.Tensor 'unknown_472:0' shape=(2,) dtype=float32>, <tf.Tensor 'unknown_473:0' shape=(2,) dtype=float32>, <tf.Tensor 'unknown_474:0' shape=<unknown> dtype=resource>, <tf.Tensor 'unknown_475:0' shape=<unknown> dtype=resource>, <tf.Tensor 'unknown_476:0' shape=<unknown> dtype=resource>, <tf.Tensor 'unknown_477:0' shape=<unknown> dtype=resource>, <tf.Tensor 'unknown_478:0' shape=<unknown> dtype=resource>, <tf.Tensor 'unknown_479:0' shape=<unknown> dtype=resource>, <tf.Tensor 'unknown_480:0' shape=<unknown> dtype=resource>, <tf.Tensor 'unknown_481:0' shape=<unknown> dtype=resource>, <tf.Tensor 'unknown_482:0' shape=<unknown> dtype=resource>, <tf.Tensor 'unknown_483:0' shape=<unknown> dtype=resource>, <tf.Tensor 'unknown_484:0' shape=<unknown> dtype=resource>, <tf.Tensor 'unknown_485:0' shape=<unknown> dtype=resource>, <tf.Tensor 'unknown_486:0' shape=<unknown> dtype=resource>, <tf.Tensor 'unknown_487:0' shape=<unknown> dtype=resource>, <tf.Tensor 'unknown_488:0' shape=<unknown> dtype=resource>, <tf.Tensor 'unknown_489:0' shape=<unknown> dtype=resource>, <tf.Tensor 'unknown_490:0' shape=<unknown> dtype=resource>, <tf.Tensor 'unknown_491:0' shape=<unknown> dtype=resource>, <tf.Tensor 'unknown_492:0' shape=<unknown> dtype=resource>, <tf.Tensor 'unknown_493:0' shape=<unknown> dtype=resource>, <tf.Tensor 'unknown_494:0' shape=<unknown> dtype=resource>, <tf.Tensor 'unknown_495:0' shape=<unknown> dtype=resource>, <tf.Tensor 'unknown_496:0' shape=<unknown> dtype=resource>, <tf.Tensor 'unknown_497:0' shape=<unknown> dtype=resource>, <tf.Tensor 'unknown_498:0' shape=<unknown> dtype=resource>, <tf.Tensor 'unknown_499:0' shape=<unknown> dtype=resource>, <tf.Tensor 'unknown_500:0' shape=<unknown> dtype=resource>, <tf.Tensor 'unknown_501:0' shape=<unknown> dtype=resource>, <tf.Tensor 'unknown_502:0' shape=<unknown> dtype=resource>, <tf.Tensor 'unknown_503:0' shape=<unknown> dtype=resource>, <tf.Tensor 'unknown_504:0' shape=<unknown> dtype=resource>, <tf.Tensor 'unknown_505:0' shape=<unknown> dtype=resource>, <tf.Tensor 'unknown_506:0' shape=<unknown> dtype=resource>, <tf.Tensor 'unknown_507:0' shape=<unknown> dtype=resource>, <tf.Tensor 'unknown_508:0' shape=<unknown> dtype=resource>, <tf.Tensor 'unknown_509:0' shape=<unknown> dtype=resource>, <tf.Tensor 'unknown_510:0' shape=<unknown> dtype=resource>, <tf.Tensor 'unknown_511:0' shape=<unknown> dtype=resource>, <tf.Tensor 'unknown_512:0' shape=<unknown> dtype=resource>, <tf.Tensor 'unknown_513:0' shape=<unknown> dtype=resource>, <tf.Tensor 'unknown_514:0' shape=<unknown> dtype=resource>, <tf.Tensor 'unknown_515:0' shape=<unknown> dtype=resource>, <tf.Tensor 'unknown_516:0' shape=<unknown> dtype=resource>, <tf.Tensor 'unknown_517:0' shape=<unknown> dtype=resource>, <tf.Tensor 'unknown_518:0' shape=<unknown> dtype=resource>, <tf.Tensor 'unknown_519:0' shape=<unknown> dtype=resource>, <tf.Tensor 'unknown_520:0' shape=<unknown> dtype=resource>, <tf.Tensor 'unknown_521:0' shape=<unknown> dtype=resource>, <tf.Tensor 'unknown_522:0' shape=<unknown> dtype=resource>, <tf.Tensor 'unknown_523:0' shape=<unknown> dtype=resource>, <tf.Tensor 'unknown_524:0' shape=<unknown> dtype=resource>, <tf.Tensor 'unknown_525:0' shape=<unknown> dtype=resource>, <tf.Tensor 'unknown_526:0' shape=<unknown> dtype=resource>, <tf.Tensor 'unknown_527:0' shape=<unknown> dtype=resource>, <tf.Tensor 'unknown_528:0' shape=<unknown> dtype=resource>, <tf.Tensor 'unknown_529:0' shape=<unknown> dtype=resource>, <tf.Tensor 'unknown_530:0' shape=<unknown> dtype=resource>, <tf.Tensor 'unknown_531:0' shape=<unknown> dtype=resource>]\n"
     ]
    }
   ],
   "source": [
    "print(detection_model.signatures['serving_default'].inputs)"
   ]
  },
  {
   "cell_type": "markdown",
   "metadata": {
    "colab_type": "text",
    "id": "Q8u3BjpMJXZF"
   },
   "source": [
    "And returns several outputs:"
   ]
  },
  {
   "cell_type": "code",
   "execution_count": 24,
   "metadata": {
    "colab": {},
    "colab_type": "code",
    "id": "oLSZpfaYwuSk"
   },
   "outputs": [
    {
     "data": {
      "text/plain": [
       "{'raw_detection_boxes': tf.float32,\n",
       " 'detection_scores': tf.float32,\n",
       " 'raw_detection_scores': tf.float32,\n",
       " 'detection_anchor_indices': tf.float32,\n",
       " 'detection_multiclass_scores': tf.float32,\n",
       " 'detection_classes': tf.float32,\n",
       " 'num_detections': tf.float32,\n",
       " 'detection_boxes': tf.float32}"
      ]
     },
     "execution_count": 24,
     "metadata": {},
     "output_type": "execute_result"
    }
   ],
   "source": [
    "detection_model.signatures['serving_default'].output_dtypes"
   ]
  },
  {
   "cell_type": "code",
   "execution_count": 25,
   "metadata": {
    "colab": {},
    "colab_type": "code",
    "id": "FZyKUJeuxvpT"
   },
   "outputs": [
    {
     "data": {
      "text/plain": [
       "{'raw_detection_boxes': TensorShape([1, 300, 4]),\n",
       " 'detection_scores': TensorShape([1, 300]),\n",
       " 'raw_detection_scores': TensorShape([1, 300, 4]),\n",
       " 'detection_anchor_indices': TensorShape([1, 300]),\n",
       " 'detection_multiclass_scores': TensorShape([1, 300, 4]),\n",
       " 'detection_classes': TensorShape([1, 300]),\n",
       " 'num_detections': TensorShape([1]),\n",
       " 'detection_boxes': TensorShape([1, 300, 4])}"
      ]
     },
     "execution_count": 25,
     "metadata": {},
     "output_type": "execute_result"
    }
   ],
   "source": [
    "detection_model.signatures['serving_default'].output_shapes"
   ]
  },
  {
   "cell_type": "markdown",
   "metadata": {
    "colab_type": "text",
    "id": "JP5qZ7sXJpwG"
   },
   "source": [
    "Add a wrapper function to call the model, and cleanup the outputs:"
   ]
  },
  {
   "cell_type": "code",
   "execution_count": 26,
   "metadata": {
    "colab": {},
    "colab_type": "code",
    "id": "ajmR_exWyN76"
   },
   "outputs": [],
   "source": [
    "def run_inference_for_single_image(model, image):\n",
    "  image = np.asarray(image)\n",
    "  # The input needs to be a tensor, convert it using `tf.convert_to_tensor`.\n",
    "  input_tensor = tf.convert_to_tensor(image)\n",
    "  # The model expects a batch of images, so add an axis with `tf.newaxis`.\n",
    "  input_tensor = input_tensor[tf.newaxis,...]\n",
    "\n",
    "  # Run inference\n",
    "  model_fn = model.signatures['serving_default']\n",
    "  output_dict = model_fn(input_tensor)\n",
    "\n",
    "  # All outputs are batches tensors.\n",
    "  # Convert to numpy arrays, and take index [0] to remove the batch dimension.\n",
    "  # We're only interested in the first num_detections.\n",
    "  num_detections = int(output_dict.pop('num_detections'))\n",
    "  output_dict = {key:value[0, :num_detections].numpy() \n",
    "                 for key,value in output_dict.items()}\n",
    "  output_dict['num_detections'] = num_detections\n",
    "\n",
    "  # detection_classes should be ints.\n",
    "  output_dict['detection_classes'] = output_dict['detection_classes'].astype(np.int64)\n",
    "   \n",
    "  # Handle models with masks:\n",
    "  if 'detection_masks' in output_dict:\n",
    "    # Reframe the the bbox mask to the image size.\n",
    "    detection_masks_reframed = utils_ops.reframe_box_masks_to_image_masks(\n",
    "              output_dict['detection_masks'], output_dict['detection_boxes'],\n",
    "               image.shape[0], image.shape[1])      \n",
    "    detection_masks_reframed = tf.cast(detection_masks_reframed > 0.5,\n",
    "                                       tf.uint8)\n",
    "    output_dict['detection_masks_reframed'] = detection_masks_reframed.numpy()\n",
    "    \n",
    "  return output_dict"
   ]
  },
  {
   "cell_type": "markdown",
   "metadata": {
    "colab_type": "text",
    "id": "z1wq0LVyMRR_"
   },
   "source": [
    "Run it on each test image and show the results:"
   ]
  },
  {
   "cell_type": "code",
   "execution_count": 27,
   "metadata": {
    "colab": {},
    "colab_type": "code",
    "id": "DWh_1zz6aqxs"
   },
   "outputs": [],
   "source": [
    "def show_inference(model, image_path):\n",
    "  # the array based representation of the image will be used later in order to prepare the\n",
    "  # result image with boxes and labels on it.\n",
    "  image_np = np.array(Image.open(image_path))\n",
    "  # Actual detection.\n",
    "  output_dict = run_inference_for_single_image(model, image_np)\n",
    "  # Visualization of the results of a detection.\n",
    "  vis_util.visualize_boxes_and_labels_on_image_array(\n",
    "      image_np,\n",
    "      output_dict['detection_boxes'],\n",
    "      output_dict['detection_classes'],\n",
    "      output_dict['detection_scores'],\n",
    "      category_index,\n",
    "      instance_masks=output_dict.get('detection_masks_reframed', None),\n",
    "      use_normalized_coordinates=True,\n",
    "      line_thickness=8)\n",
    "\n",
    "  display(Image.fromarray(image_np))"
   ]
  },
  {
   "cell_type": "code",
   "execution_count": 28,
   "metadata": {
    "colab": {},
    "colab_type": "code",
    "id": "3a5wMHN8WKMh"
   },
   "outputs": [
    {
     "ename": "FileNotFoundError",
     "evalue": "[Errno 2] No such file or directory: 'C:/Users/Eugene Goh/models/research/object_detection/images/test\\\\img1.jpg'",
     "output_type": "error",
     "traceback": [
      "\u001b[1;31m---------------------------------------------------------------------------\u001b[0m",
      "\u001b[1;31mFileNotFoundError\u001b[0m                         Traceback (most recent call last)",
      "\u001b[1;32m<ipython-input-28-c197149a2864>\u001b[0m in \u001b[0;36m<module>\u001b[1;34m\u001b[0m\n\u001b[0;32m      1\u001b[0m \u001b[1;32mfor\u001b[0m \u001b[0mimage_path\u001b[0m \u001b[1;32min\u001b[0m \u001b[0mTEST_IMAGE_PATHS\u001b[0m\u001b[1;33m:\u001b[0m\u001b[1;33m\u001b[0m\u001b[1;33m\u001b[0m\u001b[0m\n\u001b[1;32m----> 2\u001b[1;33m   \u001b[0mshow_inference\u001b[0m\u001b[1;33m(\u001b[0m\u001b[0mdetection_model\u001b[0m\u001b[1;33m,\u001b[0m \u001b[0mimage_path\u001b[0m\u001b[1;33m)\u001b[0m\u001b[1;33m\u001b[0m\u001b[1;33m\u001b[0m\u001b[0m\n\u001b[0m",
      "\u001b[1;32m<ipython-input-27-e474e557b383>\u001b[0m in \u001b[0;36mshow_inference\u001b[1;34m(model, image_path)\u001b[0m\n\u001b[0;32m      2\u001b[0m   \u001b[1;31m# the array based representation of the image will be used later in order to prepare the\u001b[0m\u001b[1;33m\u001b[0m\u001b[1;33m\u001b[0m\u001b[1;33m\u001b[0m\u001b[0m\n\u001b[0;32m      3\u001b[0m   \u001b[1;31m# result image with boxes and labels on it.\u001b[0m\u001b[1;33m\u001b[0m\u001b[1;33m\u001b[0m\u001b[1;33m\u001b[0m\u001b[0m\n\u001b[1;32m----> 4\u001b[1;33m   \u001b[0mimage_np\u001b[0m \u001b[1;33m=\u001b[0m \u001b[0mnp\u001b[0m\u001b[1;33m.\u001b[0m\u001b[0marray\u001b[0m\u001b[1;33m(\u001b[0m\u001b[0mImage\u001b[0m\u001b[1;33m.\u001b[0m\u001b[0mopen\u001b[0m\u001b[1;33m(\u001b[0m\u001b[0mimage_path\u001b[0m\u001b[1;33m)\u001b[0m\u001b[1;33m)\u001b[0m\u001b[1;33m\u001b[0m\u001b[1;33m\u001b[0m\u001b[0m\n\u001b[0m\u001b[0;32m      5\u001b[0m   \u001b[1;31m# Actual detection.\u001b[0m\u001b[1;33m\u001b[0m\u001b[1;33m\u001b[0m\u001b[1;33m\u001b[0m\u001b[0m\n\u001b[0;32m      6\u001b[0m   \u001b[0moutput_dict\u001b[0m \u001b[1;33m=\u001b[0m \u001b[0mrun_inference_for_single_image\u001b[0m\u001b[1;33m(\u001b[0m\u001b[0mmodel\u001b[0m\u001b[1;33m,\u001b[0m \u001b[0mimage_np\u001b[0m\u001b[1;33m)\u001b[0m\u001b[1;33m\u001b[0m\u001b[1;33m\u001b[0m\u001b[0m\n",
      "\u001b[1;32mc:\\users\\eugene goh\\appdata\\local\\programs\\python\\python37\\lib\\site-packages\\PIL\\Image.py\u001b[0m in \u001b[0;36mopen\u001b[1;34m(fp, mode)\u001b[0m\n\u001b[0;32m   2876\u001b[0m \u001b[1;33m\u001b[0m\u001b[0m\n\u001b[0;32m   2877\u001b[0m     \u001b[1;32mif\u001b[0m \u001b[0mfilename\u001b[0m\u001b[1;33m:\u001b[0m\u001b[1;33m\u001b[0m\u001b[1;33m\u001b[0m\u001b[0m\n\u001b[1;32m-> 2878\u001b[1;33m         \u001b[0mfp\u001b[0m \u001b[1;33m=\u001b[0m \u001b[0mbuiltins\u001b[0m\u001b[1;33m.\u001b[0m\u001b[0mopen\u001b[0m\u001b[1;33m(\u001b[0m\u001b[0mfilename\u001b[0m\u001b[1;33m,\u001b[0m \u001b[1;34m\"rb\"\u001b[0m\u001b[1;33m)\u001b[0m\u001b[1;33m\u001b[0m\u001b[1;33m\u001b[0m\u001b[0m\n\u001b[0m\u001b[0;32m   2879\u001b[0m         \u001b[0mexclusive_fp\u001b[0m \u001b[1;33m=\u001b[0m \u001b[1;32mTrue\u001b[0m\u001b[1;33m\u001b[0m\u001b[1;33m\u001b[0m\u001b[0m\n\u001b[0;32m   2880\u001b[0m \u001b[1;33m\u001b[0m\u001b[0m\n",
      "\u001b[1;31mFileNotFoundError\u001b[0m: [Errno 2] No such file or directory: 'C:/Users/Eugene Goh/models/research/object_detection/images/test\\\\img1.jpg'"
     ]
    }
   ],
   "source": [
    "for image_path in TEST_IMAGE_PATHS:\n",
    "  show_inference(detection_model, image_path)\n"
   ]
  },
  {
   "cell_type": "markdown",
   "metadata": {
    "colab_type": "text",
    "id": "DsspMPX3Cssg"
   },
   "source": [
    "## Instance Segmentation"
   ]
  },
  {
   "cell_type": "code",
   "execution_count": null,
   "metadata": {
    "colab": {},
    "colab_type": "code",
    "id": "CzkVv_n2MxKC"
   },
   "outputs": [],
   "source": [
    "#model_name = \"mask_rcnn_inception_resnet_v2_atrous_coco_2018_01_28\"\n",
    "#masking_model = load_model(model_name)"
   ]
  },
  {
   "cell_type": "markdown",
   "metadata": {
    "colab_type": "text",
    "id": "0S7aZi8ZOhVV"
   },
   "source": [
    "The instance segmentation model includes a `detection_masks` output:"
   ]
  },
  {
   "cell_type": "code",
   "execution_count": null,
   "metadata": {
    "colab": {},
    "colab_type": "code",
    "id": "vQ2Sj2VIOZLA"
   },
   "outputs": [],
   "source": [
    "#masking_model.output_shapes"
   ]
  },
  {
   "cell_type": "code",
   "execution_count": null,
   "metadata": {
    "colab": {},
    "colab_type": "code",
    "id": "AS57rZlnNL7W"
   },
   "outputs": [],
   "source": [
    "#for image_path in TEST_IMAGE_PATHS:\n",
    "#  show_inference(masking_model, image_path)"
   ]
  }
 ],
 "metadata": {
  "accelerator": "GPU",
  "colab": {
   "collapsed_sections": [],
   "last_runtime": {
    "build_target": "//learning/brain/python/client:colab_notebook",
    "kind": "private"
   },
   "name": "object_detection_tutorial.ipynb",
   "private_outputs": true,
   "provenance": [
    {
     "file_id": "/piper/depot/google3/third_party/tensorflow_models/object_detection/colab_tutorials/object_detection_tutorial.ipynb",
     "timestamp": 1594335690840
    },
    {
     "file_id": "1LNYL6Zsn9Xlil2CVNOTsgDZQSBKeOjCh",
     "timestamp": 1566498233247
    },
    {
     "file_id": "/piper/depot/google3/third_party/tensorflow_models/object_detection/object_detection_tutorial.ipynb?workspaceId=markdaoust:copybara_AFABFE845DCD573AD3D43A6BAFBE77D4_0::citc",
     "timestamp": 1566488313397
    },
    {
     "file_id": "/piper/depot/google3/third_party/py/tensorflow_docs/g3doc/en/r2/tutorials/generative/object_detection_tutorial.ipynb?workspaceId=markdaoust:copybara_AFABFE845DCD573AD3D43A6BAFBE77D4_0::citc",
     "timestamp": 1566145894046
    },
    {
     "file_id": "1nBPoWynOV0auSIy40eQcBIk9C6YRSkI8",
     "timestamp": 1566145841085
    },
    {
     "file_id": "/piper/depot/google3/third_party/tensorflow_models/object_detection/object_detection_tutorial.ipynb?workspaceId=markdaoust:copybara_AFABFE845DCD573AD3D43A6BAFBE77D4_0::citc",
     "timestamp": 1556295408037
    },
    {
     "file_id": "1layerger-51XwWOwYMY_5zHaCavCeQkO",
     "timestamp": 1556214267924
    },
    {
     "file_id": "/piper/depot/google3/third_party/tensorflow_models/object_detection/object_detection_tutorial.ipynb?workspaceId=markdaoust:copybara_AFABFE845DCD573AD3D43A6BAFBE77D4_0::citc",
     "timestamp": 1556207836484
    },
    {
     "file_id": "1w6mqQiNV3liPIX70NOgitOlDF1_4sRMw",
     "timestamp": 1556154824101
    },
    {
     "file_id": "https://github.com/tensorflow/models/blob/master/research/object_detection/object_detection_tutorial.ipynb",
     "timestamp": 1556150293326
    }
   ]
  },
  "kernelspec": {
   "display_name": "Python 3",
   "language": "python",
   "name": "python3"
  },
  "language_info": {
   "codemirror_mode": {
    "name": "ipython",
    "version": 3
   },
   "file_extension": ".py",
   "mimetype": "text/x-python",
   "name": "python",
   "nbconvert_exporter": "python",
   "pygments_lexer": "ipython3",
   "version": "3.7.7"
  }
 },
 "nbformat": 4,
 "nbformat_minor": 1
}
